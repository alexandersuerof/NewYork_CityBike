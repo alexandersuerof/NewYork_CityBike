{
 "cells": [
  {
   "cell_type": "markdown",
   "id": "30a5dafd-0a90-40ba-a664-91db20345eb5",
   "metadata": {},
   "source": [
    "# New York City Bike"
   ]
  },
  {
   "cell_type": "markdown",
   "id": "298fadb2-968b-4585-b237-4088d6f3c493",
   "metadata": {},
   "source": [
    "Citi Bike is the United States's largest bike share program, with 10,000 bikes and 600 stations across Manhattan, Brooklyn, Queens, and Jersey City. This dataset includes Citi Bike trips since Citi Bike launched in September 2013 and is updated daily. "
   ]
  },
  {
   "cell_type": "code",
   "execution_count": null,
   "id": "af167af7-3e8a-4fac-a276-988e2d8e9d2f",
   "metadata": {},
   "outputs": [],
   "source": [
    "# Load Packages \n"
   ]
  }
 ],
 "metadata": {
  "kernelspec": {
   "display_name": "Python 3 (ipykernel)",
   "language": "python",
   "name": "python3"
  },
  "language_info": {
   "codemirror_mode": {
    "name": "ipython",
    "version": 3
   },
   "file_extension": ".py",
   "mimetype": "text/x-python",
   "name": "python",
   "nbconvert_exporter": "python",
   "pygments_lexer": "ipython3",
   "version": "3.10.1"
  }
 },
 "nbformat": 4,
 "nbformat_minor": 5
}
